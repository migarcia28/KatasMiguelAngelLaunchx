{
 "cells": [
  {
   "cell_type": "markdown",
   "metadata": {},
   "source": [
    "# Ejercicio: crea y ejecuta tu notebook\n",
    "\n",
    "Primero instalamos la biblioteca:"
   ]
  },
  {
   "cell_type": "code",
   "execution_count": 15,
   "metadata": {},
   "outputs": [
    {
     "name": "stdout",
     "output_type": "stream",
     "text": [
      "Collecting ipywidgetsNote: you may need to restart the kernel to use updated packages.\n",
      "  Using cached ipywidgets-7.6.5-py2.py3-none-any.whl (121 kB)\n",
      "Collecting ipython-genutils~=0.2.0\n",
      "  Using cached ipython_genutils-0.2.0-py2.py3-none-any.whl (26 kB)\n",
      "Requirement already satisfied: ipython>=4.0.0 in c:\\users\\pc\\launchxmagh\\cursointropython-main\\env\\lib\\site-packages (from ipywidgets) (8.0.1)\n",
      "Requirement already satisfied: ipykernel>=4.5.1 in c:\\users\\pc\\launchxmagh\\cursointropython-main\\env\\lib\\site-packages (from ipywidgets) (6.9.0)\n",
      "Requirement already satisfied: traitlets>=4.3.1 in c:\\users\\pc\\launchxmagh\\cursointropython-main\\env\\lib\\site-packages (from ipywidgets) (5.1.1)\n",
      "Collecting jupyterlab-widgets>=1.0.0\n",
      "\n",
      "  Using cached jupyterlab_widgets-1.0.2-py3-none-any.whl (243 kB)\n",
      "Collecting widgetsnbextension~=3.5.0\n",
      "  Using cached widgetsnbextension-3.5.2-py2.py3-none-any.whl (1.6 MB)\n",
      "Collecting nbformat>=4.2.0\n",
      "  Using cached nbformat-5.1.3-py3-none-any.whl (178 kB)\n",
      "Requirement already satisfied: jupyter-client<8.0 in c:\\users\\pc\\launchxmagh\\cursointropython-main\\env\\lib\\site-packages (from ipykernel>=4.5.1->ipywidgets) (7.1.2)\n",
      "Requirement already satisfied: debugpy<2.0,>=1.0.0 in c:\\users\\pc\\launchxmagh\\cursointropython-main\\env\\lib\\site-packages (from ipykernel>=4.5.1->ipywidgets) (1.5.1)\n",
      "Requirement already satisfied: matplotlib-inline<0.2.0,>=0.1.0 in c:\\users\\pc\\launchxmagh\\cursointropython-main\\env\\lib\\site-packages (from ipykernel>=4.5.1->ipywidgets) (0.1.3)\n",
      "Requirement already satisfied: tornado<7.0,>=4.2 in c:\\users\\pc\\launchxmagh\\cursointropython-main\\env\\lib\\site-packages (from ipykernel>=4.5.1->ipywidgets) (6.1)\n",
      "Requirement already satisfied: nest-asyncio in c:\\users\\pc\\launchxmagh\\cursointropython-main\\env\\lib\\site-packages (from ipykernel>=4.5.1->ipywidgets) (1.5.4)\n",
      "Requirement already satisfied: stack-data in c:\\users\\pc\\launchxmagh\\cursointropython-main\\env\\lib\\site-packages (from ipython>=4.0.0->ipywidgets) (0.1.4)\n",
      "Requirement already satisfied: black in c:\\users\\pc\\launchxmagh\\cursointropython-main\\env\\lib\\site-packages (from ipython>=4.0.0->ipywidgets) (22.1.0)\n",
      "Requirement already satisfied: pickleshare in c:\\users\\pc\\launchxmagh\\cursointropython-main\\env\\lib\\site-packages (from ipython>=4.0.0->ipywidgets) (0.7.5)\n",
      "Requirement already satisfied: prompt-toolkit!=3.0.0,!=3.0.1,<3.1.0,>=2.0.0 in c:\\users\\pc\\launchxmagh\\cursointropython-main\\env\\lib\\site-packages (from ipython>=4.0.0->ipywidgets) (3.0.28)\n",
      "Requirement already satisfied: decorator in c:\\users\\pc\\launchxmagh\\cursointropython-main\\env\\lib\\site-packages (from ipython>=4.0.0->ipywidgets) (5.1.1)\n",
      "Requirement already satisfied: colorama in c:\\users\\pc\\launchxmagh\\cursointropython-main\\env\\lib\\site-packages (from ipython>=4.0.0->ipywidgets) (0.4.4)\n",
      "Requirement already satisfied: backcall in c:\\users\\pc\\launchxmagh\\cursointropython-main\\env\\lib\\site-packages (from ipython>=4.0.0->ipywidgets) (0.2.0)\n",
      "Requirement already satisfied: pygments in c:\\users\\pc\\launchxmagh\\cursointropython-main\\env\\lib\\site-packages (from ipython>=4.0.0->ipywidgets) (2.11.2)\n",
      "Requirement already satisfied: setuptools>=18.5 in c:\\users\\pc\\launchxmagh\\cursointropython-main\\env\\lib\\site-packages (from ipython>=4.0.0->ipywidgets) (49.2.1)\n",
      "Requirement already satisfied: jedi>=0.16 in c:\\users\\pc\\launchxmagh\\cursointropython-main\\env\\lib\\site-packages (from ipython>=4.0.0->ipywidgets) (0.18.1)\n",
      "Requirement already satisfied: jupyter-core in c:\\users\\pc\\launchxmagh\\cursointropython-main\\env\\lib\\site-packages (from nbformat>=4.2.0->ipywidgets) (4.9.1)\n",
      "Collecting jsonschema!=2.5.0,>=2.4\n",
      "  Using cached jsonschema-4.4.0-py3-none-any.whl (72 kB)\n",
      "Collecting notebook>=4.4.1\n",
      "  Using cached notebook-6.4.8-py3-none-any.whl (9.9 MB)\n",
      "Requirement already satisfied: parso<0.9.0,>=0.8.0 in c:\\users\\pc\\launchxmagh\\cursointropython-main\\env\\lib\\site-packages (from jedi>=0.16->ipython>=4.0.0->ipywidgets) (0.8.3)\n",
      "Collecting pyrsistent!=0.17.0,!=0.17.1,!=0.17.2,>=0.14.0\n",
      "  Downloading pyrsistent-0.18.1-cp39-cp39-win_amd64.whl (61 kB)\n",
      "     -------------------------------------- 61.6/61.6 KB 815.3 kB/s eta 0:00:00\n",
      "Collecting attrs>=17.4.0\n",
      "  Using cached attrs-21.4.0-py2.py3-none-any.whl (60 kB)\n",
      "Requirement already satisfied: python-dateutil>=2.1 in c:\\users\\pc\\launchxmagh\\cursointropython-main\\env\\lib\\site-packages (from jupyter-client<8.0->ipykernel>=4.5.1->ipywidgets) (2.8.2)\n",
      "Requirement already satisfied: entrypoints in c:\\users\\pc\\launchxmagh\\cursointropython-main\\env\\lib\\site-packages (from jupyter-client<8.0->ipykernel>=4.5.1->ipywidgets) (0.4)\n",
      "Requirement already satisfied: pyzmq>=13 in c:\\users\\pc\\launchxmagh\\cursointropython-main\\env\\lib\\site-packages (from jupyter-client<8.0->ipykernel>=4.5.1->ipywidgets) (22.3.0)\n",
      "Requirement already satisfied: pywin32>=1.0 in c:\\users\\pc\\launchxmagh\\cursointropython-main\\env\\lib\\site-packages (from jupyter-core->nbformat>=4.2.0->ipywidgets) (303)\n",
      "Collecting nbconvert\n",
      "  Using cached nbconvert-6.4.2-py3-none-any.whl (558 kB)\n",
      "Collecting prometheus-client\n",
      "  Using cached prometheus_client-0.13.1-py3-none-any.whl (57 kB)\n",
      "Collecting argon2-cffi\n",
      "  Using cached argon2_cffi-21.3.0-py3-none-any.whl (14 kB)\n",
      "Collecting Send2Trash>=1.8.0\n",
      "  Using cached Send2Trash-1.8.0-py3-none-any.whl (18 kB)\n",
      "Collecting terminado>=0.8.3\n",
      "  Using cached terminado-0.13.1-py3-none-any.whl (14 kB)\n",
      "Collecting jinja2\n",
      "  Using cached Jinja2-3.0.3-py3-none-any.whl (133 kB)\n",
      "Requirement already satisfied: wcwidth in c:\\users\\pc\\launchxmagh\\cursointropython-main\\env\\lib\\site-packages (from prompt-toolkit!=3.0.0,!=3.0.1,<3.1.0,>=2.0.0->ipython>=4.0.0->ipywidgets) (0.2.5)\n",
      "Requirement already satisfied: tomli>=1.1.0 in c:\\users\\pc\\launchxmagh\\cursointropython-main\\env\\lib\\site-packages (from black->ipython>=4.0.0->ipywidgets) (2.0.1)\n",
      "Requirement already satisfied: pathspec>=0.9.0 in c:\\users\\pc\\launchxmagh\\cursointropython-main\\env\\lib\\site-packages (from black->ipython>=4.0.0->ipywidgets) (0.9.0)\n",
      "Requirement already satisfied: typing-extensions>=3.10.0.0 in c:\\users\\pc\\launchxmagh\\cursointropython-main\\env\\lib\\site-packages (from black->ipython>=4.0.0->ipywidgets) (4.0.1)\n",
      "Requirement already satisfied: mypy-extensions>=0.4.3 in c:\\users\\pc\\launchxmagh\\cursointropython-main\\env\\lib\\site-packages (from black->ipython>=4.0.0->ipywidgets) (0.4.3)\n",
      "Requirement already satisfied: platformdirs>=2 in c:\\users\\pc\\launchxmagh\\cursointropython-main\\env\\lib\\site-packages (from black->ipython>=4.0.0->ipywidgets) (2.5.0)\n",
      "Requirement already satisfied: click>=8.0.0 in c:\\users\\pc\\launchxmagh\\cursointropython-main\\env\\lib\\site-packages (from black->ipython>=4.0.0->ipywidgets) (8.0.3)\n",
      "Requirement already satisfied: executing in c:\\users\\pc\\launchxmagh\\cursointropython-main\\env\\lib\\site-packages (from stack-data->ipython>=4.0.0->ipywidgets) (0.8.2)\n",
      "Requirement already satisfied: asttokens in c:\\users\\pc\\launchxmagh\\cursointropython-main\\env\\lib\\site-packages (from stack-data->ipython>=4.0.0->ipywidgets) (2.0.5)\n",
      "Requirement already satisfied: pure-eval in c:\\users\\pc\\launchxmagh\\cursointropython-main\\env\\lib\\site-packages (from stack-data->ipython>=4.0.0->ipywidgets) (0.2.2)\n",
      "Requirement already satisfied: six>=1.5 in c:\\users\\pc\\launchxmagh\\cursointropython-main\\env\\lib\\site-packages (from python-dateutil>=2.1->jupyter-client<8.0->ipykernel>=4.5.1->ipywidgets) (1.16.0)\n",
      "Collecting pywinpty>=1.1.0\n",
      "  Downloading pywinpty-2.0.2-cp39-none-win_amd64.whl (1.4 MB)\n",
      "     ---------------------------------------- 1.4/1.4 MB 1.6 MB/s eta 0:00:00\n",
      "Collecting argon2-cffi-bindings\n",
      "  Downloading argon2_cffi_bindings-21.2.0-cp36-abi3-win_amd64.whl (30 kB)\n",
      "Collecting MarkupSafe>=2.0\n",
      "  Downloading MarkupSafe-2.0.1-cp39-cp39-win_amd64.whl (14 kB)\n",
      "Collecting testpath\n",
      "  Using cached testpath-0.5.0-py3-none-any.whl (84 kB)\n",
      "Collecting bleach\n",
      "  Using cached bleach-4.1.0-py2.py3-none-any.whl (157 kB)\n",
      "Collecting nbclient<0.6.0,>=0.5.0\n",
      "  Using cached nbclient-0.5.10-py3-none-any.whl (69 kB)\n",
      "Collecting pandocfilters>=1.4.1\n",
      "  Using cached pandocfilters-1.5.0-py2.py3-none-any.whl (8.7 kB)\n",
      "Collecting mistune<2,>=0.8.1\n",
      "  Using cached mistune-0.8.4-py2.py3-none-any.whl (16 kB)\n",
      "Collecting jupyterlab-pygments\n",
      "  Using cached jupyterlab_pygments-0.1.2-py2.py3-none-any.whl (4.6 kB)\n",
      "Collecting defusedxml\n",
      "  Using cached defusedxml-0.7.1-py2.py3-none-any.whl (25 kB)\n",
      "Collecting cffi>=1.0.1\n",
      "  Downloading cffi-1.15.0-cp39-cp39-win_amd64.whl (180 kB)\n",
      "     ------------------------------------ 180.3/180.3 KB 988.5 kB/s eta 0:00:00\n",
      "Requirement already satisfied: packaging in c:\\users\\pc\\launchxmagh\\cursointropython-main\\env\\lib\\site-packages (from bleach->nbconvert->notebook>=4.4.1->widgetsnbextension~=3.5.0->ipywidgets) (21.3)\n",
      "Collecting webencodings\n",
      "  Using cached webencodings-0.5.1-py2.py3-none-any.whl (11 kB)\n",
      "Collecting pycparser\n",
      "  Using cached pycparser-2.21-py2.py3-none-any.whl (118 kB)\n",
      "Requirement already satisfied: pyparsing!=3.0.5,>=2.0.2 in c:\\users\\pc\\launchxmagh\\cursointropython-main\\env\\lib\\site-packages (from packaging->bleach->nbconvert->notebook>=4.4.1->widgetsnbextension~=3.5.0->ipywidgets) (3.0.7)\n",
      "Installing collected packages: webencodings, Send2Trash, mistune, ipython-genutils, testpath, pywinpty, pyrsistent, pycparser, prometheus-client, pandocfilters, MarkupSafe, jupyterlab-widgets, jupyterlab-pygments, defusedxml, attrs, terminado, jsonschema, jinja2, cffi, bleach, nbformat, argon2-cffi-bindings, nbclient, argon2-cffi, nbconvert, notebook, widgetsnbextension, ipywidgets\n",
      "Successfully installed MarkupSafe-2.0.1 Send2Trash-1.8.0 argon2-cffi-21.3.0 argon2-cffi-bindings-21.2.0 attrs-21.4.0 bleach-4.1.0 cffi-1.15.0 defusedxml-0.7.1 ipython-genutils-0.2.0 ipywidgets-7.6.5 jinja2-3.0.3 jsonschema-4.4.0 jupyterlab-pygments-0.1.2 jupyterlab-widgets-1.0.2 mistune-0.8.4 nbclient-0.5.10 nbconvert-6.4.2 nbformat-5.1.3 notebook-6.4.8 pandocfilters-1.5.0 prometheus-client-0.13.1 pycparser-2.21 pyrsistent-0.18.1 pywinpty-2.0.2 terminado-0.13.1 testpath-0.5.0 webencodings-0.5.1 widgetsnbextension-3.5.2\n"
     ]
    }
   ],
   "source": [
    "pip install ipywidgets"
   ]
  },
  {
   "cell_type": "code",
   "execution_count": 16,
   "metadata": {},
   "outputs": [
    {
     "data": {
      "application/vnd.jupyter.widget-view+json": {
       "model_id": "eb470e34352f46abbb010c3470064c33",
       "version_major": 2,
       "version_minor": 0
      },
      "text/plain": [
       "ToggleButton(value=False, button_style='success', description='Iniciar Lanzamiento de aprendizaje con INNOVACC…"
      ]
     },
     "metadata": {},
     "output_type": "display_data"
    },
    {
     "data": {
      "application/vnd.jupyter.widget-view+json": {
       "model_id": "09e578f6ac684e469be2721d70dbb85a",
       "version_major": 2,
       "version_minor": 0
      },
      "text/plain": [
       "Output()"
      ]
     },
     "metadata": {},
     "output_type": "display_data"
    }
   ],
   "source": [
    "import ipywidgets as widgets\n",
    "\n",
    "ignition = widgets.ToggleButton(\n",
    "    value=False,\n",
    "    description='Iniciar Lanzamiento de aprendizaje con INNOVACCION VIRTUAL ',\n",
    "    button_style='success',\n",
    "    tooltip='Engage your Launch',\n",
    "    icon='rocket'\n",
    ")\n",
    "\n",
    "output = widgets.Output()\n",
    "\n",
    "display(ignition, output)\n",
    "\n",
    "def on_value_change(change):\n",
    "    with output:\n",
    "        if change['new'] == True:\n",
    "            print(\"Nave Iniciada con Miguel Angel Garcia Hernandez!\")\n",
    "        else:   \n",
    "            print(\"Nave Detenida\")\n",
    "\n",
    "ignition.observe(on_value_change, names='value')"
   ]
  },
  {
   "cell_type": "markdown",
   "metadata": {},
   "source": [
    "## Ejercicio 2: Usar comandos avanzados"
   ]
  },
  {
   "cell_type": "code",
   "execution_count": 4,
   "metadata": {},
   "outputs": [
    {
     "name": "stdout",
     "output_type": "stream",
     "text": [
      "Requirement already satisfied: numpy in c:\\users\\pc\\launchxmagh\\cursointropython-main\\env\\lib\\site-packages (1.22.2)\n"
     ]
    }
   ],
   "source": [
    "!pip install numpy"
   ]
  },
  {
   "cell_type": "markdown",
   "metadata": {},
   "source": [
    "## Niveles de Oxígeno\n",
    "Muestra diez minutos de niveles de oxígeno en tu nave."
   ]
  },
  {
   "cell_type": "code",
   "execution_count": 17,
   "metadata": {},
   "outputs": [
    {
     "data": {
      "image/png": "[encoded data removed]",
      "text/plain": [
       "<Figure size 432x288 with 1 Axes>"
      ]
     },
     "metadata": {
      "needs_background": "light"
     },
     "output_type": "display_data"
    }
   ],
   "source": [
    "#Se trabaja con dos librerias de Python\n",
    "#Una de ellas que es Matplotlib es una libreria para la creacion de graficos en dos dimensiones\n",
    "#La otra es numpy la cual se ocupa para el calculo numerico y analisis de datos en gran volumen\n",
    "#Documentacion de: https://aprendeconalf.es/docencia/python/manual/numpy/ y https://aprendeconalf.es/docencia/python/manual/matplotlib/\n",
    "import numpy as np\n",
    "import matplotlib.pyplot as plt\n",
    "data = np.random.default_rng(12345)\n",
    "oxy_nums = data.integers(low=1, high=10, size=10)\n",
    "\n",
    "plt.barh(range(len(oxy_nums)), oxy_nums, color='tab:green')\n",
    "plt.show()"
   ]
  },
  {
   "cell_type": "markdown",
   "metadata": {},
   "source": [
    "## Velocidad de la nave\n",
    "\n",
    "Muestra los segundos necesarios para pasar de 0 a 11200 metros por segundo, dada la aceleración de la nave en metros por segundo."
   ]
  },
  {
   "cell_type": "code",
   "execution_count": 14,
   "metadata": {},
   "outputs": [
    {
     "name": "stdout",
     "output_type": "stream",
     "text": [
      "Tiempo para alcanzar la velocidad deseada =  1405.0632911392404\n"
     ]
    }
   ],
   "source": [
    "endVelocity = 22200\n",
    "startVelocity = 0\n",
    "acceleration = 15.8\n",
    "\n",
    "time = (endVelocity - startVelocity) / acceleration\n",
    "print(\"Tiempo para alcanzar la velocidad deseada = \", time)"
   ]
  },
  {
   "cell_type": "markdown",
   "metadata": {},
   "source": [
    "Curso Propedútico de Python para Launch X - Innovacción Virtual.\n",
    "\n",
    "Material desarrollado con base en los contenidos de MSLearn y la metáfora de LaunchX, traducción e implementación por: Fernanda Ochoa - Learning Producer de LaunchX.\n",
    "\n",
    "Redes:\n",
    "* GitHub: [FernandaOchoa](https://github.com/FernandaOchoa)\n",
    "* Twitter: [@imonsh](https://twitter.com/imonsh)\n",
    "* Instagram: [fherz8a](https://www.instagram.com/fherz8a/)"
   ]
  }
 ],
 "metadata": {
  "interpreter": {
   "hash": "502cd6c3b6c9e666d195e1caff9d64ea12bf644e547a4c8fae84812082c54b6f"
  },
  "kernelspec": {
   "display_name": "Python 3.9.5 64-bit",
   "language": "python",
   "name": "python3"
  },
  "language_info": {
   "codemirror_mode": {
    "name": "ipython",
    "version": 3
   },
   "file_extension": ".py",
   "mimetype": "text/x-python",
   "name": "python",
   "nbconvert_exporter": "python",
   "pygments_lexer": "ipython3",
   "version": "3.9.2"
  },
  "orig_nbformat": 4
 },
 "nbformat": 4,
 "nbformat_minor": 2
}

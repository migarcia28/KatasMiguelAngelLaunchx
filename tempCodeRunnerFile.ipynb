# Solicitamos el nombre de un planeta *Pista:  input()*
nombre_planeta = input("Dame un nombre de un planeta:")
print(nombre_planeta)
